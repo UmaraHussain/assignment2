{
 "cells": [
  {
   "cell_type": "code",
   "execution_count": 1,
   "id": "a06018e5",
   "metadata": {},
   "outputs": [
    {
     "name": "stdout",
     "output_type": "stream",
     "text": [
      "437.5\n"
     ]
    }
   ],
   "source": [
    "a = 35.0\n",
    "b = 12.50\n",
    "c = a * b\n",
    "print(c)"
   ]
  },
  {
   "cell_type": "code",
   "execution_count": 2,
   "id": "dba3da44",
   "metadata": {},
   "outputs": [
    {
     "name": "stdout",
     "output_type": "stream",
     "text": [
      "4\n"
     ]
    }
   ],
   "source": [
    " xx = 2\n",
    " xx = xx + 2 \n",
    "print(xx) "
   ]
  },
  {
   "cell_type": "code",
   "execution_count": 3,
   "id": "7693bb6c",
   "metadata": {},
   "outputs": [
    {
     "name": "stdout",
     "output_type": "stream",
     "text": [
      "5280\n"
     ]
    }
   ],
   "source": [
    " yy = 440 * 12 \n",
    "print(yy) "
   ]
  },
  {
   "cell_type": "code",
   "execution_count": 4,
   "id": "795b405f",
   "metadata": {},
   "outputs": [
    {
     "name": "stdout",
     "output_type": "stream",
     "text": [
      "5.28\n"
     ]
    }
   ],
   "source": [
    " zz = yy / 1000 \n",
    "print(zz)"
   ]
  },
  {
   "cell_type": "code",
   "execution_count": 5,
   "id": "6e93d97e",
   "metadata": {},
   "outputs": [
    {
     "name": "stdout",
     "output_type": "stream",
     "text": [
      "3\n"
     ]
    }
   ],
   "source": [
    "jj = 23 \n",
    "kk = jj % 5 \n",
    "print(kk) "
   ]
  },
  {
   "cell_type": "code",
   "execution_count": 6,
   "id": "10e6f74a",
   "metadata": {},
   "outputs": [
    {
     "name": "stdout",
     "output_type": "stream",
     "text": [
      "64\n"
     ]
    }
   ],
   "source": [
    " print(4 ** 3) "
   ]
  },
  {
   "cell_type": "code",
   "execution_count": 7,
   "id": "b0cedaf5",
   "metadata": {},
   "outputs": [
    {
     "name": "stdout",
     "output_type": "stream",
     "text": [
      "5\n"
     ]
    }
   ],
   "source": [
    " ddd = 1 + 4 \n",
    "print(ddd) "
   ]
  },
  {
   "cell_type": "code",
   "execution_count": 8,
   "id": "e40fa632",
   "metadata": {},
   "outputs": [
    {
     "name": "stdout",
     "output_type": "stream",
     "text": [
      "hello there\n"
     ]
    }
   ],
   "source": [
    "eee = 'hello ' + 'there' \n",
    "print(eee) "
   ]
  },
  {
   "cell_type": "code",
   "execution_count": 9,
   "id": "4257efa0",
   "metadata": {},
   "outputs": [
    {
     "name": "stdout",
     "output_type": "stream",
     "text": [
      "199.0\n"
     ]
    }
   ],
   "source": [
    " print(float(99) + 100) "
   ]
  },
  {
   "cell_type": "code",
   "execution_count": 10,
   "id": "ee5d409c",
   "metadata": {},
   "outputs": [
    {
     "name": "stdout",
     "output_type": "stream",
     "text": [
      "5.0\n"
     ]
    }
   ],
   "source": [
    "print(10 / 2) "
   ]
  },
  {
   "cell_type": "code",
   "execution_count": 11,
   "id": "8db8233a",
   "metadata": {},
   "outputs": [
    {
     "name": "stdout",
     "output_type": "stream",
     "text": [
      "4.5\n"
     ]
    }
   ],
   "source": [
    "print(9 / 2) "
   ]
  },
  {
   "cell_type": "code",
   "execution_count": 12,
   "id": "d9dc94f1",
   "metadata": {},
   "outputs": [
    {
     "name": "stdout",
     "output_type": "stream",
     "text": [
      "0.99\n"
     ]
    }
   ],
   "source": [
    " print(99 / 100) "
   ]
  },
  {
   "cell_type": "code",
   "execution_count": null,
   "id": "67f3b6fc",
   "metadata": {},
   "outputs": [],
   "source": []
  },
  {
   "cell_type": "code",
   "execution_count": null,
   "id": "120aa492",
   "metadata": {},
   "outputs": [],
   "source": []
  },
  {
   "cell_type": "code",
   "execution_count": null,
   "id": "eba8ce42",
   "metadata": {},
   "outputs": [],
   "source": []
  },
  {
   "cell_type": "code",
   "execution_count": null,
   "id": "aecc5abe",
   "metadata": {},
   "outputs": [],
   "source": []
  },
  {
   "cell_type": "code",
   "execution_count": null,
   "id": "cc72adac",
   "metadata": {},
   "outputs": [],
   "source": []
  }
 ],
 "metadata": {
  "kernelspec": {
   "display_name": "Python 3 (ipykernel)",
   "language": "python",
   "name": "python3"
  },
  "language_info": {
   "codemirror_mode": {
    "name": "ipython",
    "version": 3
   },
   "file_extension": ".py",
   "mimetype": "text/x-python",
   "name": "python",
   "nbconvert_exporter": "python",
   "pygments_lexer": "ipython3",
   "version": "3.9.12"
  }
 },
 "nbformat": 4,
 "nbformat_minor": 5
}
